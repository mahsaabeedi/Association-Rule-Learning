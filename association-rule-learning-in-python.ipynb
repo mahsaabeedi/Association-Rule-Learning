{
 "cells": [
  {
   "cell_type": "code",
   "execution_count": 1,
   "id": "fcf7b404",
   "metadata": {
    "collapsed": true,
    "execution": {
     "iopub.execute_input": "2021-09-17T15:42:47.606828Z",
     "iopub.status.busy": "2021-09-17T15:42:47.605627Z",
     "iopub.status.idle": "2021-09-17T15:43:06.159403Z",
     "shell.execute_reply": "2021-09-17T15:43:06.158724Z",
     "shell.execute_reply.started": "2021-09-17T14:40:54.611261Z"
    },
    "jupyter": {
     "outputs_hidden": true
    },
    "papermill": {
     "duration": 18.578864,
     "end_time": "2021-09-17T15:43:06.159597",
     "exception": false,
     "start_time": "2021-09-17T15:42:47.580733",
     "status": "completed"
    },
    "tags": []
   },
   "outputs": [
    {
     "name": "stdout",
     "output_type": "stream",
     "text": [
      "Collecting openpyxl\r\n",
      "  Downloading openpyxl-3.0.8-py2.py3-none-any.whl (244 kB)\r\n",
      "\u001b[K     |████████████████████████████████| 244 kB 604 kB/s \r\n",
      "\u001b[?25hCollecting et-xmlfile\r\n",
      "  Downloading et_xmlfile-1.1.0-py3-none-any.whl (4.7 kB)\r\n",
      "Installing collected packages: et-xmlfile, openpyxl\r\n",
      "Successfully installed et-xmlfile-1.1.0 openpyxl-3.0.8\r\n",
      "\u001b[33mWARNING: Running pip as the 'root' user can result in broken permissions and conflicting behaviour with the system package manager. It is recommended to use a virtual environment instead: https://pip.pypa.io/warnings/venv\u001b[0m\r\n",
      "Requirement already satisfied: mlxtend in /opt/conda/lib/python3.7/site-packages (0.19.0)\r\n",
      "Requirement already satisfied: setuptools in /opt/conda/lib/python3.7/site-packages (from mlxtend) (57.4.0)\r\n",
      "Requirement already satisfied: scipy>=1.2.1 in /opt/conda/lib/python3.7/site-packages (from mlxtend) (1.7.1)\r\n",
      "Requirement already satisfied: scikit-learn>=0.20.3 in /opt/conda/lib/python3.7/site-packages (from mlxtend) (0.23.2)\r\n",
      "Requirement already satisfied: pandas>=0.24.2 in /opt/conda/lib/python3.7/site-packages (from mlxtend) (1.3.2)\r\n",
      "Requirement already satisfied: numpy>=1.16.2 in /opt/conda/lib/python3.7/site-packages (from mlxtend) (1.19.5)\r\n",
      "Requirement already satisfied: joblib>=0.13.2 in /opt/conda/lib/python3.7/site-packages (from mlxtend) (1.0.1)\r\n",
      "Requirement already satisfied: matplotlib>=3.0.0 in /opt/conda/lib/python3.7/site-packages (from mlxtend) (3.4.3)\r\n",
      "Requirement already satisfied: kiwisolver>=1.0.1 in /opt/conda/lib/python3.7/site-packages (from matplotlib>=3.0.0->mlxtend) (1.3.1)\r\n",
      "Requirement already satisfied: pillow>=6.2.0 in /opt/conda/lib/python3.7/site-packages (from matplotlib>=3.0.0->mlxtend) (8.3.1)\r\n",
      "Requirement already satisfied: pyparsing>=2.2.1 in /opt/conda/lib/python3.7/site-packages (from matplotlib>=3.0.0->mlxtend) (2.4.7)\r\n",
      "Requirement already satisfied: cycler>=0.10 in /opt/conda/lib/python3.7/site-packages (from matplotlib>=3.0.0->mlxtend) (0.10.0)\r\n",
      "Requirement already satisfied: python-dateutil>=2.7 in /opt/conda/lib/python3.7/site-packages (from matplotlib>=3.0.0->mlxtend) (2.8.0)\r\n",
      "Requirement already satisfied: six in /opt/conda/lib/python3.7/site-packages (from cycler>=0.10->matplotlib>=3.0.0->mlxtend) (1.15.0)\r\n",
      "Requirement already satisfied: pytz>=2017.3 in /opt/conda/lib/python3.7/site-packages (from pandas>=0.24.2->mlxtend) (2021.1)\r\n",
      "Requirement already satisfied: threadpoolctl>=2.0.0 in /opt/conda/lib/python3.7/site-packages (from scikit-learn>=0.20.3->mlxtend) (2.2.0)\r\n",
      "\u001b[33mWARNING: Running pip as the 'root' user can result in broken permissions and conflicting behaviour with the system package manager. It is recommended to use a virtual environment instead: https://pip.pypa.io/warnings/venv\u001b[0m\r\n"
     ]
    }
   ],
   "source": [
    "!pip install openpyxl\n",
    "!pip install mlxtend"
   ]
  },
  {
   "cell_type": "code",
   "execution_count": 2,
   "id": "11fe0f0e",
   "metadata": {
    "execution": {
     "iopub.execute_input": "2021-09-17T15:43:06.219216Z",
     "iopub.status.busy": "2021-09-17T15:43:06.218521Z",
     "iopub.status.idle": "2021-09-17T15:43:06.235297Z",
     "shell.execute_reply": "2021-09-17T15:43:06.234548Z",
     "shell.execute_reply.started": "2021-09-17T14:41:11.414393Z"
    },
    "papermill": {
     "duration": 0.048933,
     "end_time": "2021-09-17T15:43:06.235453",
     "exception": false,
     "start_time": "2021-09-17T15:43:06.186520",
     "status": "completed"
    },
    "tags": []
   },
   "outputs": [],
   "source": [
    "import pandas as pd\n",
    "from mlxtend.frequent_patterns import apriori, association_rules"
   ]
  },
  {
   "cell_type": "code",
   "execution_count": 3,
   "id": "7bad5b46",
   "metadata": {
    "execution": {
     "iopub.execute_input": "2021-09-17T15:43:06.295285Z",
     "iopub.status.busy": "2021-09-17T15:43:06.294577Z",
     "iopub.status.idle": "2021-09-17T15:44:34.439691Z",
     "shell.execute_reply": "2021-09-17T15:44:34.439031Z",
     "shell.execute_reply.started": "2021-09-17T14:43:34.275711Z"
    },
    "papermill": {
     "duration": 88.177034,
     "end_time": "2021-09-17T15:44:34.439856",
     "exception": false,
     "start_time": "2021-09-17T15:43:06.262822",
     "status": "completed"
    },
    "tags": []
   },
   "outputs": [],
   "source": [
    "raw_data = pd.read_excel('../input/uci-online-retail-ii-data-set/online_retail_II.xlsx',sheet_name='Year 2010-2011')"
   ]
  },
  {
   "cell_type": "markdown",
   "id": "a37f6a3a",
   "metadata": {
    "papermill": {
     "duration": 0.025604,
     "end_time": "2021-09-17T15:44:34.493285",
     "exception": false,
     "start_time": "2021-09-17T15:44:34.467681",
     "status": "completed"
    },
    "tags": []
   },
   "source": [
    "# Preparing Dataset"
   ]
  },
  {
   "cell_type": "code",
   "execution_count": 4,
   "id": "8e8cd41d",
   "metadata": {
    "execution": {
     "iopub.execute_input": "2021-09-17T15:44:34.552519Z",
     "iopub.status.busy": "2021-09-17T15:44:34.551724Z",
     "iopub.status.idle": "2021-09-17T15:44:34.554722Z",
     "shell.execute_reply": "2021-09-17T15:44:34.554241Z",
     "shell.execute_reply.started": "2021-09-17T15:00:10.763629Z"
    },
    "papermill": {
     "duration": 0.034941,
     "end_time": "2021-09-17T15:44:34.554882",
     "exception": false,
     "start_time": "2021-09-17T15:44:34.519941",
     "status": "completed"
    },
    "tags": []
   },
   "outputs": [],
   "source": [
    "def prepare_retail(dataframe):\n",
    "    # preparing dataset\n",
    "    dataframe.dropna(inplace=True)\n",
    "    dataframe = dataframe[~dataframe[\"Invoice\"].str.contains(\"C\", na=False)]\n",
    "    dataframe = dataframe[dataframe[\"Quantity\"] > 0]\n",
    "    dataframe = dataframe[dataframe[\"Price\"] > 0]\n",
    "    return dataframe\n"
   ]
  },
  {
   "cell_type": "code",
   "execution_count": 5,
   "id": "0ee2f5a0",
   "metadata": {
    "execution": {
     "iopub.execute_input": "2021-09-17T15:44:34.850291Z",
     "iopub.status.busy": "2021-09-17T15:44:34.616371Z",
     "iopub.status.idle": "2021-09-17T15:44:35.831157Z",
     "shell.execute_reply": "2021-09-17T15:44:35.831696Z",
     "shell.execute_reply.started": "2021-09-17T15:00:19.546633Z"
    },
    "papermill": {
     "duration": 1.250867,
     "end_time": "2021-09-17T15:44:35.831880",
     "exception": false,
     "start_time": "2021-09-17T15:44:34.581013",
     "status": "completed"
    },
    "tags": []
   },
   "outputs": [],
   "source": [
    "df = prepare_retail(raw_data)"
   ]
  },
  {
   "cell_type": "markdown",
   "id": "707755e8",
   "metadata": {
    "papermill": {
     "duration": 0.02581,
     "end_time": "2021-09-17T15:44:35.883850",
     "exception": false,
     "start_time": "2021-09-17T15:44:35.858040",
     "status": "completed"
    },
    "tags": []
   },
   "source": [
    "# Creating Apriori Datastructure"
   ]
  },
  {
   "cell_type": "code",
   "execution_count": 6,
   "id": "21674a8a",
   "metadata": {
    "execution": {
     "iopub.execute_input": "2021-09-17T15:44:35.939808Z",
     "iopub.status.busy": "2021-09-17T15:44:35.939131Z",
     "iopub.status.idle": "2021-09-17T15:44:35.947190Z",
     "shell.execute_reply": "2021-09-17T15:44:35.947679Z",
     "shell.execute_reply.started": "2021-09-17T15:10:09.616146Z"
    },
    "papermill": {
     "duration": 0.037709,
     "end_time": "2021-09-17T15:44:35.947909",
     "exception": false,
     "start_time": "2021-09-17T15:44:35.910200",
     "status": "completed"
    },
    "tags": []
   },
   "outputs": [],
   "source": [
    "\n",
    "def create_apriori_datastructure(dataframe, id=False):\n",
    "    ############################################\n",
    "    # Preparing ARL Datastructure (Invoice-Product Matrix)\n",
    "    ############################################\n",
    "\n",
    "    # We need to create below structure:\n",
    "\n",
    "    # Rows represents transactions (invoice, shopping cart etc.), columns represents products\n",
    "    # We simulate as binary that which transaction (invoice, shopping cart etc.) contains which products\n",
    "    # If the product is in the invoice, the intersection cell will be \"1\". If is not, it will be \"0\"\n",
    "\n",
    "    # Description   Product1   Product2    Product3\n",
    "    # Invoice\n",
    "    # Invoice1          0         1          0\n",
    "    # Invoice2          1         0          1\n",
    "    # Invoice3          0         0         0\n",
    "    # Invoice4          1         0         0\n",
    "    # Invoice5          0         0         1\n",
    "    if id:\n",
    "        grouped = germany_df.groupby(\n",
    "            ['Invoice', 'StockCode'], as_index=False).agg({'Quantity': 'sum'})\n",
    "        apriori_datastructure = pd.pivot(data=grouped, index='Invoice', columns='StockCode', values='Quantity').fillna(\n",
    "            0).applymap(lambda x: 1 if x > 0 else 0)\n",
    "        return apriori_datastructure\n",
    "    else:\n",
    "        grouped = germany_df.groupby(\n",
    "            ['Invoice', 'Description'], as_index=False).agg({'Quantity': 'sum'})\n",
    "        apriori_datastructure = pd.pivot(data=grouped, index='Invoice', columns='Description', values='Quantity').fillna(\n",
    "            0).applymap(lambda x: 1 if x > 0 else 0)\n",
    "        return apriori_datastructure"
   ]
  },
  {
   "cell_type": "markdown",
   "id": "22da0aab",
   "metadata": {
    "papermill": {
     "duration": 0.025852,
     "end_time": "2021-09-17T15:44:36.000542",
     "exception": false,
     "start_time": "2021-09-17T15:44:35.974690",
     "status": "completed"
    },
    "tags": []
   },
   "source": [
    "# Selecting Germany Based Invoices"
   ]
  },
  {
   "cell_type": "code",
   "execution_count": 7,
   "id": "cd879c2f",
   "metadata": {
    "execution": {
     "iopub.execute_input": "2021-09-17T15:44:36.056563Z",
     "iopub.status.busy": "2021-09-17T15:44:36.055946Z",
     "iopub.status.idle": "2021-09-17T15:44:36.137995Z",
     "shell.execute_reply": "2021-09-17T15:44:36.138483Z",
     "shell.execute_reply.started": "2021-09-17T15:10:09.955325Z"
    },
    "papermill": {
     "duration": 0.111714,
     "end_time": "2021-09-17T15:44:36.138647",
     "exception": false,
     "start_time": "2021-09-17T15:44:36.026933",
     "status": "completed"
    },
    "tags": []
   },
   "outputs": [
    {
     "data": {
      "text/html": [
       "<div>\n",
       "<style scoped>\n",
       "    .dataframe tbody tr th:only-of-type {\n",
       "        vertical-align: middle;\n",
       "    }\n",
       "\n",
       "    .dataframe tbody tr th {\n",
       "        vertical-align: top;\n",
       "    }\n",
       "\n",
       "    .dataframe thead th {\n",
       "        text-align: right;\n",
       "    }\n",
       "</style>\n",
       "<table border=\"1\" class=\"dataframe\">\n",
       "  <thead>\n",
       "    <tr style=\"text-align: right;\">\n",
       "      <th></th>\n",
       "      <th>Invoice</th>\n",
       "      <th>StockCode</th>\n",
       "      <th>Description</th>\n",
       "      <th>Quantity</th>\n",
       "      <th>InvoiceDate</th>\n",
       "      <th>Price</th>\n",
       "      <th>Customer ID</th>\n",
       "      <th>Country</th>\n",
       "    </tr>\n",
       "  </thead>\n",
       "  <tbody>\n",
       "    <tr>\n",
       "      <th>1109</th>\n",
       "      <td>536527</td>\n",
       "      <td>22809</td>\n",
       "      <td>SET OF 6 T-LIGHTS SANTA</td>\n",
       "      <td>6</td>\n",
       "      <td>2010-12-01 13:04:00</td>\n",
       "      <td>2.95</td>\n",
       "      <td>12662.0</td>\n",
       "      <td>Germany</td>\n",
       "    </tr>\n",
       "    <tr>\n",
       "      <th>1110</th>\n",
       "      <td>536527</td>\n",
       "      <td>84347</td>\n",
       "      <td>ROTATING SILVER ANGELS T-LIGHT HLDR</td>\n",
       "      <td>6</td>\n",
       "      <td>2010-12-01 13:04:00</td>\n",
       "      <td>2.55</td>\n",
       "      <td>12662.0</td>\n",
       "      <td>Germany</td>\n",
       "    </tr>\n",
       "    <tr>\n",
       "      <th>1111</th>\n",
       "      <td>536527</td>\n",
       "      <td>84945</td>\n",
       "      <td>MULTI COLOUR SILVER T-LIGHT HOLDER</td>\n",
       "      <td>12</td>\n",
       "      <td>2010-12-01 13:04:00</td>\n",
       "      <td>0.85</td>\n",
       "      <td>12662.0</td>\n",
       "      <td>Germany</td>\n",
       "    </tr>\n",
       "    <tr>\n",
       "      <th>1112</th>\n",
       "      <td>536527</td>\n",
       "      <td>22242</td>\n",
       "      <td>5 HOOK HANGER MAGIC TOADSTOOL</td>\n",
       "      <td>12</td>\n",
       "      <td>2010-12-01 13:04:00</td>\n",
       "      <td>1.65</td>\n",
       "      <td>12662.0</td>\n",
       "      <td>Germany</td>\n",
       "    </tr>\n",
       "    <tr>\n",
       "      <th>1113</th>\n",
       "      <td>536527</td>\n",
       "      <td>22244</td>\n",
       "      <td>3 HOOK HANGER MAGIC GARDEN</td>\n",
       "      <td>12</td>\n",
       "      <td>2010-12-01 13:04:00</td>\n",
       "      <td>1.95</td>\n",
       "      <td>12662.0</td>\n",
       "      <td>Germany</td>\n",
       "    </tr>\n",
       "  </tbody>\n",
       "</table>\n",
       "</div>"
      ],
      "text/plain": [
       "     Invoice StockCode                          Description  Quantity  \\\n",
       "1109  536527     22809              SET OF 6 T-LIGHTS SANTA         6   \n",
       "1110  536527     84347  ROTATING SILVER ANGELS T-LIGHT HLDR         6   \n",
       "1111  536527     84945   MULTI COLOUR SILVER T-LIGHT HOLDER        12   \n",
       "1112  536527     22242        5 HOOK HANGER MAGIC TOADSTOOL        12   \n",
       "1113  536527     22244           3 HOOK HANGER MAGIC GARDEN        12   \n",
       "\n",
       "             InvoiceDate  Price  Customer ID  Country  \n",
       "1109 2010-12-01 13:04:00   2.95      12662.0  Germany  \n",
       "1110 2010-12-01 13:04:00   2.55      12662.0  Germany  \n",
       "1111 2010-12-01 13:04:00   0.85      12662.0  Germany  \n",
       "1112 2010-12-01 13:04:00   1.65      12662.0  Germany  \n",
       "1113 2010-12-01 13:04:00   1.95      12662.0  Germany  "
      ]
     },
     "execution_count": 7,
     "metadata": {},
     "output_type": "execute_result"
    }
   ],
   "source": [
    "germany_df = df[df['Country'] == 'Germany'] # In this example, we will cover just Germany based transactions\n",
    "\n",
    "germany_df.head()"
   ]
  },
  {
   "cell_type": "code",
   "execution_count": 8,
   "id": "56c23acd",
   "metadata": {
    "execution": {
     "iopub.execute_input": "2021-09-17T15:44:36.202326Z",
     "iopub.status.busy": "2021-09-17T15:44:36.201569Z",
     "iopub.status.idle": "2021-09-17T15:44:37.036844Z",
     "shell.execute_reply": "2021-09-17T15:44:37.036279Z",
     "shell.execute_reply.started": "2021-09-17T15:23:47.136337Z"
    },
    "papermill": {
     "duration": 0.871588,
     "end_time": "2021-09-17T15:44:37.036999",
     "exception": false,
     "start_time": "2021-09-17T15:44:36.165411",
     "status": "completed"
    },
    "tags": []
   },
   "outputs": [],
   "source": [
    "germany_apriori_df = create_apriori_datastructure(germany_df,True)"
   ]
  },
  {
   "cell_type": "code",
   "execution_count": 9,
   "id": "d4f9a7e3",
   "metadata": {
    "execution": {
     "iopub.execute_input": "2021-09-17T15:44:37.094318Z",
     "iopub.status.busy": "2021-09-17T15:44:37.093617Z",
     "iopub.status.idle": "2021-09-17T15:44:37.110514Z",
     "shell.execute_reply": "2021-09-17T15:44:37.110975Z",
     "shell.execute_reply.started": "2021-09-17T15:23:49.401308Z"
    },
    "papermill": {
     "duration": 0.047332,
     "end_time": "2021-09-17T15:44:37.111164",
     "exception": false,
     "start_time": "2021-09-17T15:44:37.063832",
     "status": "completed"
    },
    "tags": []
   },
   "outputs": [
    {
     "data": {
      "text/html": [
       "<div>\n",
       "<style scoped>\n",
       "    .dataframe tbody tr th:only-of-type {\n",
       "        vertical-align: middle;\n",
       "    }\n",
       "\n",
       "    .dataframe tbody tr th {\n",
       "        vertical-align: top;\n",
       "    }\n",
       "\n",
       "    .dataframe thead th {\n",
       "        text-align: right;\n",
       "    }\n",
       "</style>\n",
       "<table border=\"1\" class=\"dataframe\">\n",
       "  <thead>\n",
       "    <tr style=\"text-align: right;\">\n",
       "      <th>StockCode</th>\n",
       "      <th>10002</th>\n",
       "      <th>10125</th>\n",
       "      <th>10135</th>\n",
       "      <th>11001</th>\n",
       "      <th>15034</th>\n",
       "      <th>15036</th>\n",
       "      <th>15039</th>\n",
       "      <th>16008</th>\n",
       "      <th>16011</th>\n",
       "      <th>16014</th>\n",
       "      <th>...</th>\n",
       "      <th>90161B</th>\n",
       "      <th>90161C</th>\n",
       "      <th>90161D</th>\n",
       "      <th>90201A</th>\n",
       "      <th>90201B</th>\n",
       "      <th>90201C</th>\n",
       "      <th>90201D</th>\n",
       "      <th>90202D</th>\n",
       "      <th>M</th>\n",
       "      <th>POST</th>\n",
       "    </tr>\n",
       "    <tr>\n",
       "      <th>Invoice</th>\n",
       "      <th></th>\n",
       "      <th></th>\n",
       "      <th></th>\n",
       "      <th></th>\n",
       "      <th></th>\n",
       "      <th></th>\n",
       "      <th></th>\n",
       "      <th></th>\n",
       "      <th></th>\n",
       "      <th></th>\n",
       "      <th></th>\n",
       "      <th></th>\n",
       "      <th></th>\n",
       "      <th></th>\n",
       "      <th></th>\n",
       "      <th></th>\n",
       "      <th></th>\n",
       "      <th></th>\n",
       "      <th></th>\n",
       "      <th></th>\n",
       "      <th></th>\n",
       "    </tr>\n",
       "  </thead>\n",
       "  <tbody>\n",
       "    <tr>\n",
       "      <th>536527</th>\n",
       "      <td>0</td>\n",
       "      <td>0</td>\n",
       "      <td>0</td>\n",
       "      <td>0</td>\n",
       "      <td>0</td>\n",
       "      <td>0</td>\n",
       "      <td>0</td>\n",
       "      <td>0</td>\n",
       "      <td>0</td>\n",
       "      <td>0</td>\n",
       "      <td>...</td>\n",
       "      <td>0</td>\n",
       "      <td>0</td>\n",
       "      <td>0</td>\n",
       "      <td>0</td>\n",
       "      <td>0</td>\n",
       "      <td>0</td>\n",
       "      <td>0</td>\n",
       "      <td>0</td>\n",
       "      <td>0</td>\n",
       "      <td>1</td>\n",
       "    </tr>\n",
       "    <tr>\n",
       "      <th>536840</th>\n",
       "      <td>0</td>\n",
       "      <td>0</td>\n",
       "      <td>0</td>\n",
       "      <td>0</td>\n",
       "      <td>0</td>\n",
       "      <td>0</td>\n",
       "      <td>0</td>\n",
       "      <td>0</td>\n",
       "      <td>0</td>\n",
       "      <td>0</td>\n",
       "      <td>...</td>\n",
       "      <td>0</td>\n",
       "      <td>0</td>\n",
       "      <td>0</td>\n",
       "      <td>0</td>\n",
       "      <td>0</td>\n",
       "      <td>0</td>\n",
       "      <td>0</td>\n",
       "      <td>0</td>\n",
       "      <td>0</td>\n",
       "      <td>1</td>\n",
       "    </tr>\n",
       "    <tr>\n",
       "      <th>536861</th>\n",
       "      <td>0</td>\n",
       "      <td>0</td>\n",
       "      <td>0</td>\n",
       "      <td>0</td>\n",
       "      <td>0</td>\n",
       "      <td>0</td>\n",
       "      <td>0</td>\n",
       "      <td>0</td>\n",
       "      <td>0</td>\n",
       "      <td>0</td>\n",
       "      <td>...</td>\n",
       "      <td>0</td>\n",
       "      <td>0</td>\n",
       "      <td>0</td>\n",
       "      <td>0</td>\n",
       "      <td>0</td>\n",
       "      <td>0</td>\n",
       "      <td>0</td>\n",
       "      <td>0</td>\n",
       "      <td>0</td>\n",
       "      <td>1</td>\n",
       "    </tr>\n",
       "    <tr>\n",
       "      <th>536967</th>\n",
       "      <td>0</td>\n",
       "      <td>0</td>\n",
       "      <td>0</td>\n",
       "      <td>0</td>\n",
       "      <td>0</td>\n",
       "      <td>0</td>\n",
       "      <td>0</td>\n",
       "      <td>0</td>\n",
       "      <td>0</td>\n",
       "      <td>0</td>\n",
       "      <td>...</td>\n",
       "      <td>0</td>\n",
       "      <td>0</td>\n",
       "      <td>0</td>\n",
       "      <td>0</td>\n",
       "      <td>0</td>\n",
       "      <td>0</td>\n",
       "      <td>0</td>\n",
       "      <td>0</td>\n",
       "      <td>0</td>\n",
       "      <td>1</td>\n",
       "    </tr>\n",
       "    <tr>\n",
       "      <th>536983</th>\n",
       "      <td>0</td>\n",
       "      <td>0</td>\n",
       "      <td>0</td>\n",
       "      <td>0</td>\n",
       "      <td>0</td>\n",
       "      <td>0</td>\n",
       "      <td>0</td>\n",
       "      <td>0</td>\n",
       "      <td>0</td>\n",
       "      <td>0</td>\n",
       "      <td>...</td>\n",
       "      <td>0</td>\n",
       "      <td>0</td>\n",
       "      <td>0</td>\n",
       "      <td>0</td>\n",
       "      <td>0</td>\n",
       "      <td>0</td>\n",
       "      <td>0</td>\n",
       "      <td>0</td>\n",
       "      <td>0</td>\n",
       "      <td>1</td>\n",
       "    </tr>\n",
       "  </tbody>\n",
       "</table>\n",
       "<p>5 rows × 1664 columns</p>\n",
       "</div>"
      ],
      "text/plain": [
       "StockCode  10002  10125  10135  11001  15034  15036  15039  16008  16011  \\\n",
       "Invoice                                                                    \n",
       "536527         0      0      0      0      0      0      0      0      0   \n",
       "536840         0      0      0      0      0      0      0      0      0   \n",
       "536861         0      0      0      0      0      0      0      0      0   \n",
       "536967         0      0      0      0      0      0      0      0      0   \n",
       "536983         0      0      0      0      0      0      0      0      0   \n",
       "\n",
       "StockCode  16014  ...  90161B  90161C  90161D  90201A  90201B  90201C  90201D  \\\n",
       "Invoice           ...                                                           \n",
       "536527         0  ...       0       0       0       0       0       0       0   \n",
       "536840         0  ...       0       0       0       0       0       0       0   \n",
       "536861         0  ...       0       0       0       0       0       0       0   \n",
       "536967         0  ...       0       0       0       0       0       0       0   \n",
       "536983         0  ...       0       0       0       0       0       0       0   \n",
       "\n",
       "StockCode  90202D  M  POST  \n",
       "Invoice                     \n",
       "536527          0  0     1  \n",
       "536840          0  0     1  \n",
       "536861          0  0     1  \n",
       "536967          0  0     1  \n",
       "536983          0  0     1  \n",
       "\n",
       "[5 rows x 1664 columns]"
      ]
     },
     "execution_count": 9,
     "metadata": {},
     "output_type": "execute_result"
    }
   ],
   "source": [
    "germany_apriori_df.head() # we see the Invoice-Product matrix"
   ]
  },
  {
   "cell_type": "markdown",
   "id": "797a3da5",
   "metadata": {
    "papermill": {
     "duration": 0.027416,
     "end_time": "2021-09-17T15:44:37.165830",
     "exception": false,
     "start_time": "2021-09-17T15:44:37.138414",
     "status": "completed"
    },
    "tags": []
   },
   "source": [
    "# Learning Rules (ARL)"
   ]
  },
  {
   "cell_type": "code",
   "execution_count": 10,
   "id": "8ae112c9",
   "metadata": {
    "execution": {
     "iopub.execute_input": "2021-09-17T15:44:37.225264Z",
     "iopub.status.busy": "2021-09-17T15:44:37.224557Z",
     "iopub.status.idle": "2021-09-17T15:44:37.229963Z",
     "shell.execute_reply": "2021-09-17T15:44:37.230473Z",
     "shell.execute_reply.started": "2021-09-17T15:23:50.452260Z"
    },
    "papermill": {
     "duration": 0.036966,
     "end_time": "2021-09-17T15:44:37.230657",
     "exception": false,
     "start_time": "2021-09-17T15:44:37.193691",
     "status": "completed"
    },
    "tags": []
   },
   "outputs": [],
   "source": [
    "\n",
    "def get_rules(apriori_df, min_support=0.01):\n",
    "    # Possibilities of all possible product combinations\n",
    "    # We say that the products that can be sold together with a min 0.01 probability should come. the probability that each product will be sold together with each other. Applying apriori algorithm.\n",
    "    frequent_itemsets = apriori(\n",
    "        apriori_df, min_support=min_support, use_colnames=True)\n",
    "    # Extracting Association Rules\n",
    "    # We extract association rules by using the support metric from the dataset that we applied the apriori algorithm.\n",
    "    rules = association_rules(\n",
    "        frequent_itemsets, metric=\"support\", min_threshold=min_support)\n",
    "    # antecedents -> the first product(s)\n",
    "    # consequents -> the next product(s)\n",
    "    # antecedent support -> probability of observing the first product(s)\n",
    "    # consequent support -> probability of observing the next product(s)\n",
    "    # support -> probability of observing the next product(s) and the first product(s) together\n",
    "    # confidence -> probability of observing the next product(s) when sold the first product(s)\n",
    "    # lift -> When the first product is sold, the probability of selling the next product(s) increases by a factor of lift.\n",
    "    # leverage -> Similar to lift, but tends to prioritize the higher support values.\n",
    "    # conviction -> probability of observing the antecedents without consequents\n",
    "    return rules"
   ]
  },
  {
   "cell_type": "code",
   "execution_count": 11,
   "id": "43851250",
   "metadata": {
    "execution": {
     "iopub.execute_input": "2021-09-17T15:44:37.289466Z",
     "iopub.status.busy": "2021-09-17T15:44:37.288841Z",
     "iopub.status.idle": "2021-09-17T15:44:42.582905Z",
     "shell.execute_reply": "2021-09-17T15:44:42.583475Z",
     "shell.execute_reply.started": "2021-09-17T15:23:50.896804Z"
    },
    "papermill": {
     "duration": 5.3251,
     "end_time": "2021-09-17T15:44:42.583675",
     "exception": false,
     "start_time": "2021-09-17T15:44:37.258575",
     "status": "completed"
    },
    "tags": []
   },
   "outputs": [],
   "source": [
    "germany_rules = get_rules(germany_apriori_df)"
   ]
  },
  {
   "cell_type": "code",
   "execution_count": 12,
   "id": "7738e080",
   "metadata": {
    "execution": {
     "iopub.execute_input": "2021-09-17T15:44:42.650577Z",
     "iopub.status.busy": "2021-09-17T15:44:42.649774Z",
     "iopub.status.idle": "2021-09-17T15:44:42.670214Z",
     "shell.execute_reply": "2021-09-17T15:44:42.670819Z",
     "shell.execute_reply.started": "2021-09-17T15:23:56.048643Z"
    },
    "papermill": {
     "duration": 0.055098,
     "end_time": "2021-09-17T15:44:42.671001",
     "exception": false,
     "start_time": "2021-09-17T15:44:42.615903",
     "status": "completed"
    },
    "tags": []
   },
   "outputs": [
    {
     "data": {
      "text/html": [
       "<div>\n",
       "<style scoped>\n",
       "    .dataframe tbody tr th:only-of-type {\n",
       "        vertical-align: middle;\n",
       "    }\n",
       "\n",
       "    .dataframe tbody tr th {\n",
       "        vertical-align: top;\n",
       "    }\n",
       "\n",
       "    .dataframe thead th {\n",
       "        text-align: right;\n",
       "    }\n",
       "</style>\n",
       "<table border=\"1\" class=\"dataframe\">\n",
       "  <thead>\n",
       "    <tr style=\"text-align: right;\">\n",
       "      <th></th>\n",
       "      <th>antecedents</th>\n",
       "      <th>consequents</th>\n",
       "      <th>antecedent support</th>\n",
       "      <th>consequent support</th>\n",
       "      <th>support</th>\n",
       "      <th>confidence</th>\n",
       "      <th>lift</th>\n",
       "      <th>leverage</th>\n",
       "      <th>conviction</th>\n",
       "    </tr>\n",
       "  </thead>\n",
       "  <tbody>\n",
       "    <tr>\n",
       "      <th>0</th>\n",
       "      <td>(POST)</td>\n",
       "      <td>(10125)</td>\n",
       "      <td>0.818381</td>\n",
       "      <td>0.013129</td>\n",
       "      <td>0.013129</td>\n",
       "      <td>0.016043</td>\n",
       "      <td>1.221925</td>\n",
       "      <td>0.002384</td>\n",
       "      <td>1.002961</td>\n",
       "    </tr>\n",
       "    <tr>\n",
       "      <th>1</th>\n",
       "      <td>(10125)</td>\n",
       "      <td>(POST)</td>\n",
       "      <td>0.013129</td>\n",
       "      <td>0.818381</td>\n",
       "      <td>0.013129</td>\n",
       "      <td>1.000000</td>\n",
       "      <td>1.221925</td>\n",
       "      <td>0.002384</td>\n",
       "      <td>inf</td>\n",
       "    </tr>\n",
       "    <tr>\n",
       "      <th>2</th>\n",
       "      <td>(15036)</td>\n",
       "      <td>(POST)</td>\n",
       "      <td>0.019694</td>\n",
       "      <td>0.818381</td>\n",
       "      <td>0.015317</td>\n",
       "      <td>0.777778</td>\n",
       "      <td>0.950386</td>\n",
       "      <td>-0.000800</td>\n",
       "      <td>0.817287</td>\n",
       "    </tr>\n",
       "    <tr>\n",
       "      <th>3</th>\n",
       "      <td>(POST)</td>\n",
       "      <td>(15036)</td>\n",
       "      <td>0.818381</td>\n",
       "      <td>0.019694</td>\n",
       "      <td>0.015317</td>\n",
       "      <td>0.018717</td>\n",
       "      <td>0.950386</td>\n",
       "      <td>-0.000800</td>\n",
       "      <td>0.999004</td>\n",
       "    </tr>\n",
       "    <tr>\n",
       "      <th>4</th>\n",
       "      <td>(16016)</td>\n",
       "      <td>(POST)</td>\n",
       "      <td>0.010941</td>\n",
       "      <td>0.818381</td>\n",
       "      <td>0.010941</td>\n",
       "      <td>1.000000</td>\n",
       "      <td>1.221925</td>\n",
       "      <td>0.001987</td>\n",
       "      <td>inf</td>\n",
       "    </tr>\n",
       "  </tbody>\n",
       "</table>\n",
       "</div>"
      ],
      "text/plain": [
       "  antecedents consequents  antecedent support  consequent support   support  \\\n",
       "0      (POST)     (10125)            0.818381            0.013129  0.013129   \n",
       "1     (10125)      (POST)            0.013129            0.818381  0.013129   \n",
       "2     (15036)      (POST)            0.019694            0.818381  0.015317   \n",
       "3      (POST)     (15036)            0.818381            0.019694  0.015317   \n",
       "4     (16016)      (POST)            0.010941            0.818381  0.010941   \n",
       "\n",
       "   confidence      lift  leverage  conviction  \n",
       "0    0.016043  1.221925  0.002384    1.002961  \n",
       "1    1.000000  1.221925  0.002384         inf  \n",
       "2    0.777778  0.950386 -0.000800    0.817287  \n",
       "3    0.018717  0.950386 -0.000800    0.999004  \n",
       "4    1.000000  1.221925  0.001987         inf  "
      ]
     },
     "execution_count": 12,
     "metadata": {},
     "output_type": "execute_result"
    }
   ],
   "source": [
    "germany_rules.head()"
   ]
  },
  {
   "cell_type": "markdown",
   "id": "8f3fae89",
   "metadata": {
    "papermill": {
     "duration": 0.031315,
     "end_time": "2021-09-17T15:44:42.733858",
     "exception": false,
     "start_time": "2021-09-17T15:44:42.702543",
     "status": "completed"
    },
    "tags": []
   },
   "source": [
    "# Creating Some Utility Functions"
   ]
  },
  {
   "cell_type": "code",
   "execution_count": 13,
   "id": "01adbfe9",
   "metadata": {
    "execution": {
     "iopub.execute_input": "2021-09-17T15:44:42.802896Z",
     "iopub.status.busy": "2021-09-17T15:44:42.799064Z",
     "iopub.status.idle": "2021-09-17T15:44:42.804757Z",
     "shell.execute_reply": "2021-09-17T15:44:42.805328Z",
     "shell.execute_reply.started": "2021-09-17T15:26:32.775013Z"
    },
    "papermill": {
     "duration": 0.04049,
     "end_time": "2021-09-17T15:44:42.805528",
     "exception": false,
     "start_time": "2021-09-17T15:44:42.765038",
     "status": "completed"
    },
    "tags": []
   },
   "outputs": [],
   "source": [
    "def get_item_name(dataframe, stock_code):\n",
    "    # To find out the product name of the id in the data structure\n",
    "    # if stock_code is a list, it will return the list by created of item names\n",
    "    if type(stock_code) != list:\n",
    "        product_name = dataframe[dataframe[\"StockCode\"] ==\n",
    "                                 stock_code][[\"Description\"]].values[0].tolist()\n",
    "        return product_name\n",
    "    else:\n",
    "        product_names = [dataframe[dataframe[\"StockCode\"] == product][[\n",
    "            \"Description\"]].values[0].tolist()[0] for product in stock_code]\n",
    "        return product_names"
   ]
  },
  {
   "cell_type": "code",
   "execution_count": 14,
   "id": "4f6eb61b",
   "metadata": {
    "execution": {
     "iopub.execute_input": "2021-09-17T15:44:42.873545Z",
     "iopub.status.busy": "2021-09-17T15:44:42.872759Z",
     "iopub.status.idle": "2021-09-17T15:44:42.880744Z",
     "shell.execute_reply": "2021-09-17T15:44:42.881240Z",
     "shell.execute_reply.started": "2021-09-17T15:26:42.503686Z"
    },
    "papermill": {
     "duration": 0.044505,
     "end_time": "2021-09-17T15:44:42.881416",
     "exception": false,
     "start_time": "2021-09-17T15:44:42.836911",
     "status": "completed"
    },
    "tags": []
   },
   "outputs": [
    {
     "data": {
      "text/plain": [
       "['MINI FUNKY DESIGN TAPES']"
      ]
     },
     "execution_count": 14,
     "metadata": {},
     "output_type": "execute_result"
    }
   ],
   "source": [
    "get_item_name(germany_df,10125)"
   ]
  },
  {
   "cell_type": "code",
   "execution_count": 15,
   "id": "9c8c7808",
   "metadata": {
    "execution": {
     "iopub.execute_input": "2021-09-17T15:44:42.945585Z",
     "iopub.status.busy": "2021-09-17T15:44:42.942180Z",
     "iopub.status.idle": "2021-09-17T15:44:42.948953Z",
     "shell.execute_reply": "2021-09-17T15:44:42.948318Z",
     "shell.execute_reply.started": "2021-09-17T15:28:22.949309Z"
    },
    "papermill": {
     "duration": 0.039022,
     "end_time": "2021-09-17T15:44:42.949117",
     "exception": false,
     "start_time": "2021-09-17T15:44:42.910095",
     "status": "completed"
    },
    "tags": []
   },
   "outputs": [],
   "source": [
    "def get_golden_shot(target_id,dataframe,rules):\n",
    "    target_product = get_item_name(dataframe,target_id)[0]\n",
    "    recomended_product_ids = recommend_products(rules, target_id)\n",
    "    recomended_product_names = get_item_name(dataframe,recommend_products(rules, target_id))\n",
    "    print(f'Target Product ID (which is in the cart): {target_id}\\nProduct Name: {target_product}')\n",
    "    print(f'Recommended Products: {recomended_product_ids}\\nProduct Names: {recomended_product_names}')"
   ]
  },
  {
   "cell_type": "markdown",
   "id": "82436430",
   "metadata": {
    "papermill": {
     "duration": 0.032217,
     "end_time": "2021-09-17T15:44:43.013534",
     "exception": false,
     "start_time": "2021-09-17T15:44:42.981317",
     "status": "completed"
    },
    "tags": []
   },
   "source": [
    "# Recommending Products"
   ]
  },
  {
   "cell_type": "code",
   "execution_count": 16,
   "id": "ba8d78a7",
   "metadata": {
    "execution": {
     "iopub.execute_input": "2021-09-17T15:44:43.084318Z",
     "iopub.status.busy": "2021-09-17T15:44:43.083148Z",
     "iopub.status.idle": "2021-09-17T15:44:43.093252Z",
     "shell.execute_reply": "2021-09-17T15:44:43.094168Z",
     "shell.execute_reply.started": "2021-09-17T15:39:15.640562Z"
    },
    "papermill": {
     "duration": 0.048723,
     "end_time": "2021-09-17T15:44:43.094403",
     "exception": false,
     "start_time": "2021-09-17T15:44:43.045680",
     "status": "completed"
    },
    "tags": []
   },
   "outputs": [],
   "source": [
    "def recommend_products(rules_df, product_id, rec_count=5):\n",
    "    # rules_df -> the dataframe that we extracted rules\n",
    "    # product_id -> the product id which is in the cart\n",
    "    # rec_count -> count of recommended products\n",
    "    sorted_rules = rules_df.sort_values('lift', ascending=False) # we are sorting the rules dataframe by using \"lift\" metric\n",
    "    recommended_products = []  # creating an empty list for holding the recommended products\n",
    "\n",
    "    for i, product in sorted_rules[\"antecedents\"].items(): # loop on the first products (the products which are in the cart)\n",
    "        for j in list(product):  # assign to a list for each product\n",
    "            if j == product_id:  # if the list you return is equal to product_id, which means the product id in the cart\n",
    "                # consequences column's first product id add to recommended products list \n",
    "                recommended_products.append(\n",
    "                    list(sorted_rules.iloc[i][\"consequents\"]))\n",
    "                \n",
    "    recommended_products = list({item for item_list in recommended_products for item in item_list}) # get unique products\n",
    "\n",
    "    return recommended_products[:rec_count] # return the recommended_products list by using rec_count limiter"
   ]
  },
  {
   "cell_type": "markdown",
   "id": "705bd7d1",
   "metadata": {
    "papermill": {
     "duration": 0.056928,
     "end_time": "2021-09-17T15:44:43.192890",
     "exception": false,
     "start_time": "2021-09-17T15:44:43.135962",
     "status": "completed"
    },
    "tags": []
   },
   "source": [
    "# Testing Recommendation"
   ]
  },
  {
   "cell_type": "code",
   "execution_count": 17,
   "id": "1ed7e0b3",
   "metadata": {
    "execution": {
     "iopub.execute_input": "2021-09-17T15:44:43.270925Z",
     "iopub.status.busy": "2021-09-17T15:44:43.269972Z",
     "iopub.status.idle": "2021-09-17T15:44:43.274184Z",
     "shell.execute_reply": "2021-09-17T15:44:43.274932Z",
     "shell.execute_reply.started": "2021-09-17T15:29:26.389671Z"
    },
    "papermill": {
     "duration": 0.04602,
     "end_time": "2021-09-17T15:44:43.275171",
     "exception": false,
     "start_time": "2021-09-17T15:44:43.229151",
     "status": "completed"
    },
    "tags": []
   },
   "outputs": [],
   "source": [
    "# simulating some products like they are in cart\n",
    "TARGET_PRODUCT_ID_1 = 21987\n",
    "TARGET_PRODUCT_ID_2 = 23235\n",
    "TARGET_PRODUCT_ID_3 = 22747"
   ]
  },
  {
   "cell_type": "code",
   "execution_count": 18,
   "id": "2dde5637",
   "metadata": {
    "execution": {
     "iopub.execute_input": "2021-09-17T15:44:43.353809Z",
     "iopub.status.busy": "2021-09-17T15:44:43.352999Z",
     "iopub.status.idle": "2021-09-17T15:44:43.367142Z",
     "shell.execute_reply": "2021-09-17T15:44:43.367847Z",
     "shell.execute_reply.started": "2021-09-17T15:29:41.840260Z"
    },
    "papermill": {
     "duration": 0.058421,
     "end_time": "2021-09-17T15:44:43.368125",
     "exception": false,
     "start_time": "2021-09-17T15:44:43.309704",
     "status": "completed"
    },
    "tags": []
   },
   "outputs": [
    {
     "data": {
      "text/plain": [
       "['PACK OF 6 SKULL PAPER CUPS',\n",
       " 'STORAGE TIN VINTAGE LEAF',\n",
       " \"POPPY'S PLAYHOUSE BATHROOM\"]"
      ]
     },
     "execution_count": 18,
     "metadata": {},
     "output_type": "execute_result"
    }
   ],
   "source": [
    "get_item_name(germany_df, [TARGET_PRODUCT_ID_1,TARGET_PRODUCT_ID_2, TARGET_PRODUCT_ID_3]) # what are their names?"
   ]
  },
  {
   "cell_type": "code",
   "execution_count": 19,
   "id": "46189b95",
   "metadata": {
    "execution": {
     "iopub.execute_input": "2021-09-17T15:44:43.459637Z",
     "iopub.status.busy": "2021-09-17T15:44:43.458525Z",
     "iopub.status.idle": "2021-09-17T15:44:43.663981Z",
     "shell.execute_reply": "2021-09-17T15:44:43.663195Z",
     "shell.execute_reply.started": "2021-09-17T15:29:56.001745Z"
    },
    "papermill": {
     "duration": 0.255563,
     "end_time": "2021-09-17T15:44:43.664203",
     "exception": false,
     "start_time": "2021-09-17T15:44:43.408640",
     "status": "completed"
    },
    "tags": []
   },
   "outputs": [
    {
     "name": "stdout",
     "output_type": "stream",
     "text": [
      "Target Product ID (which is in the cart): 21987\n",
      "Product Name: PACK OF 6 SKULL PAPER CUPS\n",
      "Recommended Products: [21124, 22029, 22037, 22423, 22554]\n",
      "Product Names: ['SET/10 BLUE POLKADOT PARTY CANDLES', 'SPACEBOY BIRTHDAY CARD', 'ROBOT BIRTHDAY CARD', 'REGENCY CAKESTAND 3 TIER', 'PLASTERS IN TIN WOODLAND ANIMALS']\n"
     ]
    }
   ],
   "source": [
    "get_golden_shot(TARGET_PRODUCT_ID_1,germany_df,germany_rules)"
   ]
  },
  {
   "cell_type": "code",
   "execution_count": 20,
   "id": "4e9cf1a2",
   "metadata": {
    "execution": {
     "iopub.execute_input": "2021-09-17T15:44:43.736163Z",
     "iopub.status.busy": "2021-09-17T15:44:43.735388Z",
     "iopub.status.idle": "2021-09-17T15:44:43.946167Z",
     "shell.execute_reply": "2021-09-17T15:44:43.945350Z",
     "shell.execute_reply.started": "2021-09-17T15:30:02.111084Z"
    },
    "papermill": {
     "duration": 0.24857,
     "end_time": "2021-09-17T15:44:43.946376",
     "exception": false,
     "start_time": "2021-09-17T15:44:43.697806",
     "status": "completed"
    },
    "tags": []
   },
   "outputs": [
    {
     "name": "stdout",
     "output_type": "stream",
     "text": [
      "Target Product ID (which is in the cart): 23235\n",
      "Product Name: STORAGE TIN VINTAGE LEAF\n",
      "Recommended Products: [23298, 21244, 20750, 23311, 22423]\n",
      "Product Names: ['SPOTTY BUNTING', 'BLUE POLKADOT PLATE ', 'RED RETROSPOT MINI CASES', 'VINTAGE CHRISTMAS STOCKING ', 'REGENCY CAKESTAND 3 TIER']\n"
     ]
    }
   ],
   "source": [
    "get_golden_shot(TARGET_PRODUCT_ID_2,germany_df,germany_rules)"
   ]
  },
  {
   "cell_type": "code",
   "execution_count": 21,
   "id": "ea7e2bfe",
   "metadata": {
    "execution": {
     "iopub.execute_input": "2021-09-17T15:44:44.027470Z",
     "iopub.status.busy": "2021-09-17T15:44:44.026699Z",
     "iopub.status.idle": "2021-09-17T15:44:44.180841Z",
     "shell.execute_reply": "2021-09-17T15:44:44.181597Z",
     "shell.execute_reply.started": "2021-09-17T15:30:06.368799Z"
    },
    "papermill": {
     "duration": 0.197851,
     "end_time": "2021-09-17T15:44:44.181841",
     "exception": false,
     "start_time": "2021-09-17T15:44:43.983990",
     "status": "completed"
    },
    "tags": []
   },
   "outputs": [
    {
     "name": "stdout",
     "output_type": "stream",
     "text": [
      "Target Product ID (which is in the cart): 22747\n",
      "Product Name: POPPY'S PLAYHOUSE BATHROOM\n",
      "Recommended Products: ['85049E', 20750, 22423, 22554, 22555]\n",
      "Product Names: ['SCANDINAVIAN REDS RIBBONS', 'RED RETROSPOT MINI CASES', 'REGENCY CAKESTAND 3 TIER', 'PLASTERS IN TIN WOODLAND ANIMALS', 'PLASTERS IN TIN STRONGMAN']\n"
     ]
    }
   ],
   "source": [
    "get_golden_shot(TARGET_PRODUCT_ID_3,germany_df,germany_rules)"
   ]
  },
  {
   "cell_type": "code",
   "execution_count": null,
   "id": "66936924",
   "metadata": {
    "papermill": {
     "duration": 0.029652,
     "end_time": "2021-09-17T15:44:44.242580",
     "exception": false,
     "start_time": "2021-09-17T15:44:44.212928",
     "status": "completed"
    },
    "tags": []
   },
   "outputs": [],
   "source": []
  }
 ],
 "metadata": {
  "kernelspec": {
   "display_name": "Python 3",
   "language": "python",
   "name": "python3"
  },
  "language_info": {
   "codemirror_mode": {
    "name": "ipython",
    "version": 3
   },
   "file_extension": ".py",
   "mimetype": "text/x-python",
   "name": "python",
   "nbconvert_exporter": "python",
   "pygments_lexer": "ipython3",
   "version": "3.7.10"
  },
  "papermill": {
   "default_parameters": {},
   "duration": 125.690516,
   "end_time": "2021-09-17T15:44:45.090477",
   "environment_variables": {},
   "exception": null,
   "input_path": "__notebook__.ipynb",
   "output_path": "__notebook__.ipynb",
   "parameters": {},
   "start_time": "2021-09-17T15:42:39.399961",
   "version": "2.3.3"
  }
 },
 "nbformat": 4,
 "nbformat_minor": 5
}
